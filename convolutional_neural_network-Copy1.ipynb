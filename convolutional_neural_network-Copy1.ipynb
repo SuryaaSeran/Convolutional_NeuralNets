{
 "cells": [
  {
   "cell_type": "markdown",
   "metadata": {
    "colab_type": "text",
    "id": "3DR-eO17geWu"
   },
   "source": [
    "# Convolutional Neural Network"
   ]
  },
  {
   "cell_type": "markdown",
   "metadata": {
    "colab_type": "text",
    "id": "EMefrVPCg-60"
   },
   "source": [
    "### Importing the libraries"
   ]
  },
  {
   "cell_type": "code",
   "execution_count": 1,
   "metadata": {
    "colab": {},
    "colab_type": "code",
    "id": "sCV30xyVhFbE"
   },
   "outputs": [
    {
     "name": "stderr",
     "output_type": "stream",
     "text": [
      "Using TensorFlow backend.\n"
     ]
    }
   ],
   "source": [
    "import tensorflow as tf\n",
    "from keras.preprocessing.image import ImageDataGenerator"
   ]
  },
  {
   "cell_type": "code",
   "execution_count": 2,
   "metadata": {
    "colab": {},
    "colab_type": "code",
    "id": "FIleuCAjoFD8"
   },
   "outputs": [
    {
     "data": {
      "text/plain": [
       "'2.1.0'"
      ]
     },
     "execution_count": 2,
     "metadata": {},
     "output_type": "execute_result"
    }
   ],
   "source": [
    "tf.__version__"
   ]
  },
  {
   "cell_type": "markdown",
   "metadata": {
    "colab_type": "text",
    "id": "oxQxCBWyoGPE"
   },
   "source": [
    "## Part 1 - Data Preprocessing"
   ]
  },
  {
   "cell_type": "markdown",
   "metadata": {
    "colab_type": "text",
    "id": "MvE-heJNo3GG"
   },
   "source": [
    "### Preprocessing the Training set"
   ]
  },
  {
   "cell_type": "code",
   "execution_count": 3,
   "metadata": {
    "colab": {},
    "colab_type": "code",
    "id": "0koUcJMJpEBD"
   },
   "outputs": [
    {
     "name": "stdout",
     "output_type": "stream",
     "text": [
      "Found 8000 images belonging to 2 classes.\n"
     ]
    }
   ],
   "source": [
    "train_datagen = ImageDataGenerator(rescale = 1./255,\n",
    "                                   shear_range = 0.2,\n",
    "                                   zoom_range = 0.2,\n",
    "                                   horizontal_flip = True)\n",
    "training_set = train_datagen.flow_from_directory('dataset/training_set',\n",
    "                                                 target_size = (64, 64),\n",
    "                                                 batch_size = 32,\n",
    "                                                 class_mode = 'binary')"
   ]
  },
  {
   "cell_type": "markdown",
   "metadata": {
    "colab_type": "text",
    "id": "mrCMmGw9pHys"
   },
   "source": [
    "### Preprocessing the Test set"
   ]
  },
  {
   "cell_type": "code",
   "execution_count": 4,
   "metadata": {
    "colab": {},
    "colab_type": "code",
    "id": "SH4WzfOhpKc3"
   },
   "outputs": [
    {
     "name": "stdout",
     "output_type": "stream",
     "text": [
      "Found 2000 images belonging to 2 classes.\n"
     ]
    }
   ],
   "source": [
    "test_datagen = ImageDataGenerator(rescale = 1./255)\n",
    "test_set = test_datagen.flow_from_directory('dataset/test_set',\n",
    "                                            target_size = (64, 64),\n",
    "                                            batch_size = 32,\n",
    "                                            class_mode = 'binary')"
   ]
  },
  {
   "cell_type": "markdown",
   "metadata": {
    "colab_type": "text",
    "id": "af8O4l90gk7B"
   },
   "source": [
    "## Part 2 - Building the CNN"
   ]
  },
  {
   "cell_type": "markdown",
   "metadata": {
    "colab_type": "text",
    "id": "ces1gXY2lmoX"
   },
   "source": [
    "### Initialising the CNN"
   ]
  },
  {
   "cell_type": "code",
   "execution_count": 5,
   "metadata": {
    "colab": {},
    "colab_type": "code",
    "id": "SAUt4UMPlhLS"
   },
   "outputs": [],
   "source": [
    "cnn = tf.keras.models.Sequential()"
   ]
  },
  {
   "cell_type": "markdown",
   "metadata": {
    "colab_type": "text",
    "id": "u5YJj_XMl5LF"
   },
   "source": [
    "### Step 1 - Convolution"
   ]
  },
  {
   "cell_type": "code",
   "execution_count": 6,
   "metadata": {
    "colab": {},
    "colab_type": "code",
    "id": "XPzPrMckl-hV"
   },
   "outputs": [],
   "source": [
    "cnn.add(tf.keras.layers.Conv2D(filters=32, kernel_size=3, activation='relu', input_shape=[64, 64, 3]))"
   ]
  },
  {
   "cell_type": "markdown",
   "metadata": {
    "colab_type": "text",
    "id": "tf87FpvxmNOJ"
   },
   "source": [
    "### Step 2 - Pooling"
   ]
  },
  {
   "cell_type": "code",
   "execution_count": 7,
   "metadata": {
    "colab": {},
    "colab_type": "code",
    "id": "ncpqPl69mOac"
   },
   "outputs": [],
   "source": [
    "cnn.add(tf.keras.layers.MaxPool2D(pool_size=2, strides=2))"
   ]
  },
  {
   "cell_type": "markdown",
   "metadata": {
    "colab_type": "text",
    "id": "xaTOgD8rm4mU"
   },
   "source": [
    "### Adding a second convolutional layer"
   ]
  },
  {
   "cell_type": "code",
   "execution_count": 8,
   "metadata": {
    "colab": {},
    "colab_type": "code",
    "id": "i_-FZjn_m8gk"
   },
   "outputs": [],
   "source": [
    "cnn.add(tf.keras.layers.Conv2D(filters=32, kernel_size=3, activation='relu'))\n",
    "cnn.add(tf.keras.layers.MaxPool2D(pool_size=2, strides=2))"
   ]
  },
  {
   "cell_type": "markdown",
   "metadata": {
    "colab_type": "text",
    "id": "tmiEuvTunKfk"
   },
   "source": [
    "### Step 3 - Flattening"
   ]
  },
  {
   "cell_type": "code",
   "execution_count": 9,
   "metadata": {
    "colab": {},
    "colab_type": "code",
    "id": "6AZeOGCvnNZn"
   },
   "outputs": [],
   "source": [
    "cnn.add(tf.keras.layers.Flatten())"
   ]
  },
  {
   "cell_type": "markdown",
   "metadata": {
    "colab_type": "text",
    "id": "dAoSECOm203v"
   },
   "source": [
    "### Step 4 - Full Connection"
   ]
  },
  {
   "cell_type": "code",
   "execution_count": 10,
   "metadata": {
    "colab": {},
    "colab_type": "code",
    "id": "8GtmUlLd26Nq"
   },
   "outputs": [],
   "source": [
    "cnn.add(tf.keras.layers.Dense(units=128, activation='relu'))"
   ]
  },
  {
   "cell_type": "code",
   "execution_count": 11,
   "metadata": {},
   "outputs": [],
   "source": [
    "cnn.add(tf.keras.layers.Dense(units=64, activation='relu'))"
   ]
  },
  {
   "cell_type": "markdown",
   "metadata": {
    "colab_type": "text",
    "id": "yTldFvbX28Na"
   },
   "source": [
    "### Step 5 - Output Layer"
   ]
  },
  {
   "cell_type": "code",
   "execution_count": 12,
   "metadata": {
    "colab": {},
    "colab_type": "code",
    "id": "1p_Zj1Mc3Ko_"
   },
   "outputs": [],
   "source": [
    "cnn.add(tf.keras.layers.Dense(units=1, activation='sigmoid'))"
   ]
  },
  {
   "cell_type": "markdown",
   "metadata": {
    "colab_type": "text",
    "id": "D6XkI90snSDl"
   },
   "source": [
    "## Part 3 - Training the CNN"
   ]
  },
  {
   "cell_type": "markdown",
   "metadata": {
    "colab_type": "text",
    "id": "vfrFQACEnc6i"
   },
   "source": [
    "### Compiling the CNN"
   ]
  },
  {
   "cell_type": "code",
   "execution_count": 13,
   "metadata": {
    "colab": {},
    "colab_type": "code",
    "id": "NALksrNQpUlJ"
   },
   "outputs": [],
   "source": [
    "cnn.compile(optimizer = 'adam', loss = 'binary_crossentropy', metrics = ['accuracy'])"
   ]
  },
  {
   "cell_type": "markdown",
   "metadata": {
    "colab_type": "text",
    "id": "ehS-v3MIpX2h"
   },
   "source": [
    "### Training the CNN on the Training set and evaluating it on the Test set"
   ]
  },
  {
   "cell_type": "code",
   "execution_count": 14,
   "metadata": {
    "colab": {},
    "colab_type": "code",
    "id": "XUj1W4PJptta"
   },
   "outputs": [
    {
     "name": "stdout",
     "output_type": "stream",
     "text": [
      "WARNING:tensorflow:sample_weight modes were coerced from\n",
      "  ...\n",
      "    to  \n",
      "  ['...']\n",
      "WARNING:tensorflow:sample_weight modes were coerced from\n",
      "  ...\n",
      "    to  \n",
      "  ['...']\n",
      "Train for 250 steps, validate for 63 steps\n",
      "Epoch 1/32\n",
      "250/250 [==============================] - 59s 235ms/step - loss: 0.6782 - accuracy: 0.5679 - val_loss: 0.6424 - val_accuracy: 0.6240\n",
      "Epoch 2/32\n",
      "250/250 [==============================] - 55s 221ms/step - loss: 0.6005 - accuracy: 0.6720 - val_loss: 0.5837 - val_accuracy: 0.6960\n",
      "Epoch 3/32\n",
      "250/250 [==============================] - 54s 217ms/step - loss: 0.5619 - accuracy: 0.7051 - val_loss: 0.5612 - val_accuracy: 0.7120\n",
      "Epoch 4/32\n",
      "250/250 [==============================] - 54s 215ms/step - loss: 0.5334 - accuracy: 0.7265 - val_loss: 0.5746 - val_accuracy: 0.7200\n",
      "Epoch 5/32\n",
      "250/250 [==============================] - 54s 216ms/step - loss: 0.5071 - accuracy: 0.7489 - val_loss: 0.4987 - val_accuracy: 0.7525\n",
      "Epoch 6/32\n",
      "250/250 [==============================] - 53s 212ms/step - loss: 0.4827 - accuracy: 0.7646 - val_loss: 0.5078 - val_accuracy: 0.7765\n",
      "Epoch 7/32\n",
      "250/250 [==============================] - 55s 218ms/step - loss: 0.4550 - accuracy: 0.7810 - val_loss: 0.5148 - val_accuracy: 0.7545\n",
      "Epoch 8/32\n",
      "250/250 [==============================] - 53s 214ms/step - loss: 0.4402 - accuracy: 0.7916 - val_loss: 0.4625 - val_accuracy: 0.7855\n",
      "Epoch 9/32\n",
      "250/250 [==============================] - 53s 213ms/step - loss: 0.4245 - accuracy: 0.8006 - val_loss: 0.4657 - val_accuracy: 0.7880\n",
      "Epoch 10/32\n",
      "250/250 [==============================] - 55s 218ms/step - loss: 0.4070 - accuracy: 0.8090 - val_loss: 0.4706 - val_accuracy: 0.7785\n",
      "Epoch 11/32\n",
      "250/250 [==============================] - 53s 213ms/step - loss: 0.3958 - accuracy: 0.8216 - val_loss: 0.4876 - val_accuracy: 0.7775\n",
      "Epoch 12/32\n",
      "250/250 [==============================] - 53s 213ms/step - loss: 0.3725 - accuracy: 0.8331 - val_loss: 0.4797 - val_accuracy: 0.7735\n",
      "Epoch 13/32\n",
      "250/250 [==============================] - 54s 216ms/step - loss: 0.3636 - accuracy: 0.8356 - val_loss: 0.4681 - val_accuracy: 0.7905\n",
      "Epoch 14/32\n",
      "250/250 [==============================] - 53s 213ms/step - loss: 0.3493 - accuracy: 0.8430 - val_loss: 0.4682 - val_accuracy: 0.7970\n",
      "Epoch 15/32\n",
      "250/250 [==============================] - 53s 213ms/step - loss: 0.3338 - accuracy: 0.8545 - val_loss: 0.4878 - val_accuracy: 0.8025\n",
      "Epoch 16/32\n",
      "250/250 [==============================] - 53s 214ms/step - loss: 0.3248 - accuracy: 0.8568 - val_loss: 0.4701 - val_accuracy: 0.8005\n",
      "Epoch 17/32\n",
      "250/250 [==============================] - 53s 212ms/step - loss: 0.3055 - accuracy: 0.8684 - val_loss: 0.4831 - val_accuracy: 0.7855\n",
      "Epoch 18/32\n",
      "250/250 [==============================] - 53s 214ms/step - loss: 0.2985 - accuracy: 0.8721 - val_loss: 0.5087 - val_accuracy: 0.7860\n",
      "Epoch 19/32\n",
      "250/250 [==============================] - 54s 215ms/step - loss: 0.2834 - accuracy: 0.8810 - val_loss: 0.5381 - val_accuracy: 0.7960\n",
      "Epoch 20/32\n",
      "250/250 [==============================] - 53s 213ms/step - loss: 0.2696 - accuracy: 0.8800 - val_loss: 0.6310 - val_accuracy: 0.7590\n",
      "Epoch 21/32\n",
      "250/250 [==============================] - 54s 216ms/step - loss: 0.2589 - accuracy: 0.8903 - val_loss: 0.5427 - val_accuracy: 0.7900\n",
      "Epoch 22/32\n",
      "250/250 [==============================] - 53s 213ms/step - loss: 0.2510 - accuracy: 0.8920 - val_loss: 0.5315 - val_accuracy: 0.7980\n",
      "Epoch 23/32\n",
      "250/250 [==============================] - 53s 214ms/step - loss: 0.2249 - accuracy: 0.9071 - val_loss: 0.5614 - val_accuracy: 0.7880\n",
      "Epoch 24/32\n",
      "250/250 [==============================] - 54s 216ms/step - loss: 0.2250 - accuracy: 0.9090 - val_loss: 0.5521 - val_accuracy: 0.7920\n",
      "Epoch 25/32\n",
      "250/250 [==============================] - 53s 213ms/step - loss: 0.2141 - accuracy: 0.9096 - val_loss: 0.6408 - val_accuracy: 0.7765\n",
      "Epoch 26/32\n",
      "250/250 [==============================] - 54s 214ms/step - loss: 0.2037 - accuracy: 0.9166 - val_loss: 0.5864 - val_accuracy: 0.7920\n",
      "Epoch 27/32\n",
      "250/250 [==============================] - 54s 216ms/step - loss: 0.1981 - accuracy: 0.9199 - val_loss: 0.6257 - val_accuracy: 0.7880\n",
      "Epoch 28/32\n",
      "250/250 [==============================] - 55s 222ms/step - loss: 0.1897 - accuracy: 0.9258 - val_loss: 0.6424 - val_accuracy: 0.7905\n",
      "Epoch 29/32\n",
      "250/250 [==============================] - 53s 212ms/step - loss: 0.1814 - accuracy: 0.9271 - val_loss: 0.7186 - val_accuracy: 0.7900\n",
      "Epoch 30/32\n",
      "250/250 [==============================] - 54s 215ms/step - loss: 0.1754 - accuracy: 0.9280 - val_loss: 0.6291 - val_accuracy: 0.8055\n",
      "Epoch 31/32\n",
      "250/250 [==============================] - 53s 212ms/step - loss: 0.1689 - accuracy: 0.9345 - val_loss: 0.6280 - val_accuracy: 0.8040\n",
      "Epoch 32/32\n",
      "250/250 [==============================] - 53s 214ms/step - loss: 0.1656 - accuracy: 0.9345 - val_loss: 0.6521 - val_accuracy: 0.7825\n"
     ]
    },
    {
     "data": {
      "text/plain": [
       "<tensorflow.python.keras.callbacks.History at 0x23e161737c8>"
      ]
     },
     "execution_count": 14,
     "metadata": {},
     "output_type": "execute_result"
    }
   ],
   "source": [
    "cnn.fit(x = training_set, validation_data = test_set, epochs = 32)"
   ]
  },
  {
   "cell_type": "markdown",
   "metadata": {
    "colab_type": "text",
    "id": "U3PZasO0006Z"
   },
   "source": [
    "## Part 4 - Making a single prediction"
   ]
  },
  {
   "cell_type": "code",
   "execution_count": 15,
   "metadata": {
    "colab": {},
    "colab_type": "code",
    "id": "gsSiWEJY1BPB"
   },
   "outputs": [],
   "source": [
    "import numpy as np\n",
    "from keras.preprocessing import image\n",
    "test_image = image.load_img('dataset/single_prediction/cat_or_dog_1.jpg', target_size = (64, 64))\n",
    "test_image = image.img_to_array(test_image)\n",
    "test_image = np.expand_dims(test_image, axis = 0)\n",
    "result = cnn.predict(test_image)\n",
    "training_set.class_indices\n",
    "if result[0][0] == 1:\n",
    "  prediction = 'dog'\n",
    "else:\n",
    "  prediction = 'cat'"
   ]
  },
  {
   "cell_type": "code",
   "execution_count": 16,
   "metadata": {
    "colab": {},
    "colab_type": "code",
    "id": "ED9KB3I54c1i"
   },
   "outputs": [
    {
     "name": "stdout",
     "output_type": "stream",
     "text": [
      "dog\n"
     ]
    }
   ],
   "source": [
    "print(prediction)"
   ]
  },
  {
   "cell_type": "code",
   "execution_count": null,
   "metadata": {},
   "outputs": [],
   "source": []
  }
 ],
 "metadata": {
  "colab": {
   "collapsed_sections": [],
   "name": "convolutional_neural_network.ipynb",
   "provenance": [],
   "toc_visible": true
  },
  "kernelspec": {
   "display_name": "Python 3",
   "language": "python",
   "name": "python3"
  },
  "language_info": {
   "codemirror_mode": {
    "name": "ipython",
    "version": 3
   },
   "file_extension": ".py",
   "mimetype": "text/x-python",
   "name": "python",
   "nbconvert_exporter": "python",
   "pygments_lexer": "ipython3",
   "version": "3.7.7"
  }
 },
 "nbformat": 4,
 "nbformat_minor": 1
}
